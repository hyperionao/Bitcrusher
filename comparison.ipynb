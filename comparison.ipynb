{
 "cells": [
  {
   "cell_type": "code",
   "execution_count": 11,
   "metadata": {},
   "outputs": [],
   "source": [
    "import wave\n",
    "import numpy as np\n",
    "import matplotlib.pyplot as plt\n",
    "\n",
    "# Reading test and output files for plots later\n",
    "with wave.open('test.wav', 'r') as wav_file:\n",
    "    signal = wav_file.readframes(-1)\n",
    "    signal = np.frombuffer(signal, 'int16')\n",
    "    \n",
    "    framerate = wav_file.getframerate()\n",
    "    time = np.linspace(0, len(signal)/framerate, num=len(signal))\n",
    "    \n",
    "wav_file.close()    \n",
    "\n",
    "with wave.open('output.wav', 'r') as out_file:\n",
    "    signal_out = out_file.readframes(-1)\n",
    "    signal_out = np.frombuffer(signal_out, 'int16')\n",
    "    \n",
    "    framerate_out = out_file.getframerate()\n",
    "    time_out = np.linspace(0, len(signal_out)/framerate_out, num=len(signal_out))\n",
    "\n",
    "out_file.close() "
   ]
  },
  {
   "cell_type": "code",
   "execution_count": null,
   "metadata": {},
   "outputs": [],
   "source": [
    "plt.figure(figsize=(14, 4))\n",
    "plt.plot(time, signal, label='Test', color='blue')\n",
    "plt.plot(time_out, signal_out, label='Output', color='red')\n",
    "plt.xlabel('Time (s)')\n",
    "plt.ylabel('Amplitude')\n",
    "plt.title('Audio Waveform Comparison')\n",
    "plt.legend()\n",
    "plt.show()"
   ]
  }
 ],
 "metadata": {
  "kernelspec": {
   "display_name": "Python 3",
   "language": "python",
   "name": "python3"
  },
  "language_info": {
   "codemirror_mode": {
    "name": "ipython",
    "version": 3
   },
   "file_extension": ".py",
   "mimetype": "text/x-python",
   "name": "python",
   "nbconvert_exporter": "python",
   "pygments_lexer": "ipython3",
   "version": "3.11.9"
  }
 },
 "nbformat": 4,
 "nbformat_minor": 2
}
